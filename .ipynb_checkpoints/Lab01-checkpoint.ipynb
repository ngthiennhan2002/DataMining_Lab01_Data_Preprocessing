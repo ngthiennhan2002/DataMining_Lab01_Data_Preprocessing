{
 "cells": [
  {
   "cell_type": "markdown",
   "metadata": {
    "id": "lgM0m7FQBO0S"
   },
   "source": [
    "# Lab 01: Data preprocessing\n",
    "\n",
    "Họ tên:\n",
    "\n",
    "MSSV:"
   ]
  },
  {
   "cell_type": "markdown",
   "metadata": {
    "id": "GRXNy_qfmJEx"
   },
   "source": [
    "**Cách làm bài**\n",
    "\n",
    "Bạn sẽ làm trực tiếp trên file notebook này. Đầu tiên, bạn điền họ tên và MSSV vào phần đầu file ở bên trên. Trong file, bạn làm bài ở những chỗ có ghi là:\n",
    "```python\n",
    "# YOUR CODE HERE\n",
    "raise NotImplementedError()\n",
    "```\n",
    "hoặc đối với những phần code không bắt buộc thì là:\n",
    "```python\n",
    "# YOUR CODE HERE (OPTION)\n",
    "```\n",
    "hoặc đối với markdown cell thì là:\n",
    "```markdown\n",
    "YOUR ANSWER HERE\n",
    "```\n",
    "Tất nhiên, khi làm thì bạn xóa dòng `raise NotImplementedError()` đi.\n",
    "Đối những phần yêu cầu code thì thường ở ngay phía dưới sẽ có một (hoặc một số) cell chứa các bộ test để giúp bạn biết đã code đúng hay chưa; nếu chạy cell này không có lỗi gì thì có nghĩa là qua được các bộ test. Trong một số trường hợp, các bộ test có thể sẽ không đầy đủ; nghĩa là, nếu không qua được test thì là code sai, nhưng nếu qua được test thì chưa chắc đã đúng.\n",
    "\n",
    "Trong khi làm bài, bạn có thể cho in ra màn hình, tạo thêm các cell để test. Nhưng khi nộp bài thì bạn xóa hoặc comment các câu lệnh in ra màn hình. Bạn lưu ý <font color=red>không được tự tiện xóa các cell hay sửa code của các cell có sẵn</font> (trừ những chỗ được phép sửa như đã nói ở trên). Bên cạnh đó, các bạn có thể tự mình tạo thêm các hàm phụ trợ nhằm mục tiêu giải quyết bài toán\n",
    "\n",
    "Trong khi làm bài, thường xuyên `Ctrl + S` để lưu lại bài làm của bạn, tránh mất mát thông tin.\n",
    "\n",
    "\n",
    "*Nên nhớ mục tiêu chính ở đây là <font color=green>học, học một cách chân thật</font>. Bạn có thể thảo luận ý tưởng với bạn khác cũng như tham khảo các nguồn trên mạng, nhưng sau cùng <font color=green>code và bài làm phải là của bạn, dựa trên sự hiểu thật sự của bạn</font>. Khi tham khảo các nguồn trên mạng thì bạn cần ghi rõ nguồn trong bài làm. Bạn không được tham khảo bài làm của các bạn năm trước (vì nếu làm vậy thì bao giờ bạn mới có thể tự mình suy nghĩ để giải quyết vấn đề); sau khi kết thúc môn học, bạn cũng không được đưa bài làm cho các bạn khóa sau hoặc public bài làm trên Github (vì nếu làm vậy thì sẽ ảnh hưởng tới việc học của các bạn khóa sau).\n",
    "\n",
    "<font color=red>Trong trường hợp bạn vi phạm những điều mình nói ở trên thì mình sẽ đề nghị giảng viên lý thuyết cho 0 điểm môn học.</font>\n",
    "\n",
    "**Cách nộp bài**\n",
    "\n",
    "Khi chấm bài, đầu tiên mình sẽ chọn `Kernel` - `Restart & Run All`, để restart và chạy tất cả các cell trong notebook của bạn; do đó, trước khi nộp bài, bạn nên chạy thử `Kernel` - `Restart & Run All` để đảm bảo mọi chuyện diễn ra đúng như mong đợi.\n",
    "\n",
    "Sau đó, bạn tạo thư mục nộp bài theo cấu trúc sau:\n",
    "- Thư mục `MSSV` (vd, nếu bạn có MSSV là 1234567 thì bạn đặt tên thư mục là `1234567`)\n",
    "    - File `Lab01.ipynb` (không cần nộp các file khác)\n",
    "\n",
    "Cuối cùng, bạn nén thư mục `MSSV` này lại và nộp ở link trên moodle. Đuôi của file nén phải là .zip (chứ không được .rar hay gì khác).\n",
    "\n",
    "<font color=red>Bạn lưu ý tuân thủ chính xác qui định nộp bài ở trên.</font>"
   ]
  },
  {
   "cell_type": "markdown",
   "metadata": {
    "id": "57WGVggnr9Fz"
   },
   "source": [
    "**Mục tiêu bài tập**\n",
    "\n",
    "Sinh viên có khả năng hiểu và cài đặt lại các hàm bổ trợ cho việc tiền xử lý dữ liệu\n",
    "\n",
    "**Mô tả yêu cầu**\n",
    "\n",
    "Sinh viên sẽ đọc vào một file dữ liệu có định dạng `.csv` (các giá trị thiếu sẽ được ký hiệu bằng chuỗi rỗng), sau đó sẽ thực hiện lần lượt các yêu cầu liên quan đến tiền xử lý dữ liệu"
   ]
  },
  {
   "cell_type": "markdown",
   "metadata": {
    "id": "4vw9l22Qmz_K"
   },
   "source": [
    "## Import"
   ]
  },
  {
   "cell_type": "code",
   "execution_count": 1,
   "metadata": {
    "id": "Eb9O7Il0my42"
   },
   "outputs": [],
   "source": [
    "\n",
    "import math\n",
    "import csv\n"
   ]
  },
  {
   "cell_type": "markdown",
   "metadata": {
    "id": "HBug-Plhm-FD"
   },
   "source": [
    "## Thu thập dữ liệu"
   ]
  },
  {
   "cell_type": "markdown",
   "metadata": {
    "id": "CWudI9-rBO0b"
   },
   "source": [
    "Các bạn sẽ tải file điểm thi THPT 2019 tại [đây](https://drive.google.com/drive/folders/19f-UOvwN5hkpOqqXr84L7UdE71dXzWnY?usp=sharing)"
   ]
  },
  {
   "cell_type": "markdown",
   "metadata": {
    "id": "ZXMkvEeMBO0b"
   },
   "source": [
    "# Phần 1: Tiền xử lý dữ liệu (7.5đ)\n",
    "\n",
    "**Lưu ý:**\n",
    "\n",
    "Sinh viên không được sử dụng các hàm có sẵn của pandas hay numpy mà cần phải tự cài đặt lại"
   ]
  },
  {
   "cell_type": "markdown",
   "metadata": {
    "id": "FsMofBU4BO0c"
   },
   "source": [
    "Mô tả dữ liệu theo thứ tự cột:\n",
    "```\n",
    "id :                 int\n",
    "Hoa :                float \n",
    "Li :                 float \n",
    "Ma_mon_ngoai_ngu :   str\n",
    "Ngoai_ngu :          float \n",
    "Sinh :               float \n",
    "Toan :               float \n",
    "Van :                float\n",
    "``` \n",
    "\n",
    "Tuy nhiên, đọc file bằng thư viện csv sẽ chuyển tất cả các giá trị về kiểu `str`, ta sẽ sẽ ép kiểu các giá trị số (trừ các giá trị rỗng) về theo kiểu dữ liệu phù hợp "
   ]
  },
  {
   "cell_type": "markdown",
   "metadata": {
    "id": "WYk0DMQNBO0d"
   },
   "source": [
    "Đọc file dữ liệu"
   ]
  },
  {
   "cell_type": "code",
   "execution_count": 2,
   "metadata": {
    "id": "ldTDDNd7mInK"
   },
   "outputs": [],
   "source": [
    "def data_reader(path):\n",
    "    csv_reader = csv.reader(open(path, 'r'), delimiter=',')\n",
    "\n",
    "    # Skip header\n",
    "    data = []\n",
    "    header = csv_reader\n",
    "    for i,row in enumerate(csv_reader):\n",
    "        if i == 0:\n",
    "            header = row\n",
    "            continue\n",
    "        convert_list = []\n",
    "        for i, element in enumerate(row):\n",
    "            if element == '':\n",
    "                convert_list.append(str(element))\n",
    "                continue\n",
    "            if i == 0:\n",
    "                convert_list.append(int(element))\n",
    "            elif i == 3:\n",
    "                convert_list.append(str(element))\n",
    "            else:\n",
    "                convert_list.append(float(element))\n",
    "        data.append(convert_list)\n",
    "    return header, data"
   ]
  },
  {
   "cell_type": "code",
   "execution_count": 3,
   "metadata": {
    "id": "r2-3-J79BO0e"
   },
   "outputs": [],
   "source": [
    "header, data = data_reader('diemthi2019.csv')"
   ]
  },
  {
   "cell_type": "code",
   "execution_count": 4,
   "metadata": {
    "id": "kcsfO_rFBO0e"
   },
   "outputs": [
    {
     "name": "stdout",
     "output_type": "stream",
     "text": [
      "header:  ['id', 'Hoa', 'Li', 'Ma_mon_ngoai_ngu', 'Ngoai_ngu', 'Sinh', 'Toan', 'Van']\n",
      "So dong:  296980\n"
     ]
    }
   ],
   "source": [
    "print(\"header: \", header)\n",
    "print(\"So dong: \", len(data))"
   ]
  },
  {
   "cell_type": "code",
   "execution_count": 5,
   "metadata": {
    "id": "wyEDYgkKBO0e"
   },
   "outputs": [
    {
     "data": {
      "text/plain": [
       "[[23, 6.75, 5.25, 'N1', 3.6, 3.25, 7.0, 6.17],\n",
       " [24, 7.75, 7.0, 'N1', 5.4, 4.0, 7.8, 5.0],\n",
       " [25, 3.75, 3.5, '', '', '', 6.8, ''],\n",
       " [26, 4.5, 5.75, 'N1', 8.0, 4.75, 8.2, 6.0],\n",
       " [27, 3.5, 6.75, 'N1', 6.2, 3.0, 7.6, 7.25],\n",
       " [28, 3.0, 5.5, 'N1', 4.8, 3.75, 6.2, 4.75],\n",
       " [29, 3.75, 7.5, 'N1', 6.4, 2.5, 7.2, 6.75],\n",
       " [30, 3.75, 6.0, 'N1', 7.6, 4.25, 7.6, 7.25],\n",
       " [31, 4.5, 5.75, 'N1', 6.6, 4.75, 7.2, 5.5],\n",
       " [32, 7.0, 4.75, 'N1', 5.4, 7.0, 7.2, 8.0]]"
      ]
     },
     "execution_count": 5,
     "metadata": {},
     "output_type": "execute_result"
    }
   ],
   "source": [
    "data[23:33]"
   ]
  },
  {
   "cell_type": "markdown",
   "metadata": {
    "id": "b6mR8GQkBO0f"
   },
   "source": [
    "### 1) Liệt kê các cột thiếu dữ liệu (0.5đ)\n",
    "Hàm `checkNaN_col()` sẽ trả về `list` chứa tên cột nếu như cột bị thiếu dữ liệu"
   ]
  },
  {
   "cell_type": "code",
   "execution_count": 6,
   "metadata": {
    "id": "zDQ_uSLBmNrB"
   },
   "outputs": [],
   "source": [
    "def checkNaN_col(data, header):\n",
    "    \"\"\"Hàm này sẽ liệt kê các cột có chứa dữ liệu có dạng chuỗi rỗng\n",
    "\n",
    "    Args:\n",
    "        data <list<list>>: list của các dòng dữ liệu trong file dữ liệu đầu vào, mỗi dòng sẽ là một list các giá trị\n",
    "        header <list>: list chứa tên của các cột trong file dữ liệu\n",
    "\n",
    "    Returns:\n",
    "        <list>: danh sách chứa tên các cột có chứa giá trị chuỗi rỗng\n",
    "    \"\"\"\n",
    "    # YOUR CODE HERE\n",
    "    NaN_col_list = []\n",
    "    \n",
    "    for col in list(zip(*data)):\n",
    "        for row in col:\n",
    "            if row == '':\n",
    "                NaN_col_list.append(col)\n",
    "                break\n",
    "        \n",
    "    return NaN_col_list"
   ]
  },
  {
   "cell_type": "code",
   "execution_count": 7,
   "metadata": {
    "id": "28oymE_jyZM1"
   },
   "outputs": [],
   "source": [
    "assert len(checkNaN_col(data, header)) == 7"
   ]
  },
  {
   "cell_type": "markdown",
   "metadata": {
    "id": "gR-Hr4HJBO0f"
   },
   "source": [
    "Hàm `checkNaN_row()` sẽ trả về `list` chứa index của các dòng có tồn tại giá trị rỗng"
   ]
  },
  {
   "cell_type": "code",
   "execution_count": 8,
   "metadata": {
    "id": "uhENRinXBO0f"
   },
   "outputs": [],
   "source": [
    "def checkNaN_row(data):\n",
    "    \"\"\"Hàm này sẽ đếm số dòng có chứa dữ liệu có dạng chuỗi rỗng\n",
    "\n",
    "    Args:\n",
    "        data <list<list>>: list của các dòng dữ liệu trong file dữ liệu đầu vào, mỗi dòng sẽ là một list các giá trị\n",
    "        \n",
    "    Returns:\n",
    "        <list>: danh sách chứa index của các dòng có tồn tại giá trị chuỗi rỗng\n",
    "    \"\"\"\n",
    "    # YOUR CODE HERE\n",
    "    NaN_row_list = []\n",
    "    \n",
    "    for row in data:\n",
    "        for col in row:\n",
    "            if col == '':\n",
    "                NaN_row_list.append(row)\n",
    "                break\n",
    "                \n",
    "    return NaN_row_list"
   ]
  },
  {
   "cell_type": "code",
   "execution_count": 9,
   "metadata": {
    "id": "pJ0lMU2rBO0f"
   },
   "outputs": [],
   "source": [
    "row_have_NaN = checkNaN_row(data)\n",
    "assert len(row_have_NaN) == 17753"
   ]
  },
  {
   "cell_type": "markdown",
   "metadata": {
    "id": "Bqzd9sAFBO0f"
   },
   "source": [
    "### 2) Điền giá trị thiếu (1.5đ)\n",
    "Điền giá trị thiếu bằng phương pháp constant (điền giá trị 0), mean, median vào giá trị thiếu cho cột numeric, và mode cho cột categorical. Đối với các thuộc tính numeric, giá trị điền vào sẽ là giá trị `float`, đối với thuộc tính categorical, giá trị điền vào sẽ là giá trị `str`\n",
    "\n",
    "**Lưu ý:** khi tính mean, median hay mode các bạn cần bỏ qua giá trị bị thiếu. Khi thao tác trên các cột dạng float, kết quả phải được làm tròn ở hai chữ số bằng hàm `round()`\n",
    "\n",
    "Hàm tính mean/median/mode của các cột tương ứng trong dữ liệu sẽ trả về một danh sách, chứa các giá trị mean/median/mode của các cột, và sẽ được hàm `fill_data()` sử dụng danh sách đó để điền vào giá trị thiếu\n",
    "\n"
   ]
  },
  {
   "cell_type": "code",
   "execution_count": 10,
   "metadata": {
    "id": "U3ehqwqPBO0g"
   },
   "outputs": [],
   "source": [
    "def sum_data(data):\n",
    "    \"\"\"Hàm này dùng để tính tổng theo các cột có dạng numeric\n",
    "\n",
    "    Args:\n",
    "        data <list<list>>: list của các dòng dữ liệu trong file dữ liệu đầu vào, mỗi dòng sẽ là một list các giá trị\n",
    "\n",
    "    Returns:\n",
    "        <list>, list chứa các giá trị tổng theo cột\n",
    "        <list>: list chứa số lượng giá trị khác giá trị chuỗi rỗng\n",
    "    \"\"\"\n",
    "    # Hàm này sẽ được dùng bổ trợ để tính sum và số lượng mẫu không bị thiếu của từng cột thuộc tính (trừ cột id)\n",
    "    # YOUR CODE HERE (OPTION)\n",
    "    sum_col_list = []\n",
    "    count_not_NaN = []\n",
    "    \n",
    "    for col in list(zip(*data)):\n",
    "        count = 0\n",
    "        res = 0\n",
    "        if type(col[0]) is not float:\n",
    "            continue\n",
    "            \n",
    "        for num in col:\n",
    "            if num == '': \n",
    "                continue\n",
    "            res = res + float(num)\n",
    "            count += 1\n",
    "            \n",
    "        sum_col_list.append(res)\n",
    "        count_not_NaN.append(count)\n",
    "\n",
    "    return sum_col_list, count_not_NaN"
   ]
  },
  {
   "cell_type": "code",
   "execution_count": 11,
   "metadata": {
    "id": "pj-uBXxeBO0g"
   },
   "outputs": [],
   "source": [
    "def mean(data):\n",
    "    \"\"\"Hàm này dùng để tính trung bình theo các cột có dạng numeric\n",
    "\n",
    "    Args:\n",
    "        data <list<list>>: list của các dòng dữ liệu trong file dữ liệu đầu vào, mỗi dòng sẽ là một list các giá trị\n",
    "\n",
    "    Returns:\n",
    "        <list>: list chứa các giá trị trung bình theo từng cột\n",
    "    \"\"\"\n",
    "    # YOUR CODE HERE\n",
    "    sum, count_not_NaN = sum_data(data)\n",
    "    \n",
    "    for i in range(len(sum)):\n",
    "        sum[i] = sum[i] / count_not_NaN[i]\n",
    "    \n",
    "    for i in range(len(sum)):\n",
    "        sum[i] = round(sum[i], 2)\n",
    "    \n",
    "    mean_data = sum\n",
    "    \n",
    "    return mean_data"
   ]
  },
  {
   "cell_type": "code",
   "execution_count": 12,
   "metadata": {
    "id": "5j4Z4gRjBO0g"
   },
   "outputs": [],
   "source": [
    "assert mean(data) == [5.34, 5.56, 4.76, 4.67, 6.8, 5.62]"
   ]
  },
  {
   "cell_type": "code",
   "execution_count": 13,
   "metadata": {
    "id": "IqxUiO25BO0g"
   },
   "outputs": [],
   "source": [
    "def median(data):\n",
    "    \"\"\"Hàm này dùng để tính trung bình theo các cột có dạng numeric\n",
    "\n",
    "    Args:\n",
    "        data <list<list>>: list của các dòng dữ liệu trong file dữ liệu đầu vào, mỗi dòng sẽ là một list các giá trị\n",
    "\n",
    "    Returns:\n",
    "        <list>: list chứa các giá trị trung vị theo từng cột\n",
    "    \"\"\"\n",
    "    # YOUR CODE HERE\n",
    "    med_data = []\n",
    "    \n",
    "    for col in list(zip(*data)):\n",
    "\n",
    "        arr_col = []\n",
    "        \n",
    "        if type(col[0]) is not float:\n",
    "            continue\n",
    "        \n",
    "        for num in col:\n",
    "            if num == '':\n",
    "                continue\n",
    "            arr_col.append(num)\n",
    "            \n",
    "        arr_col = sorted(arr_col)\n",
    "        \n",
    "        length = len(arr_col)\n",
    "        \n",
    "        if length % 2 == 0:\n",
    "            med = (arr_col[int(length / 2)] + arr_col[int(length / 2) + 1]) / 2\n",
    "        else:\n",
    "            med = arr_col[int((length + 1) / 2)]\n",
    "        \n",
    "        med_data.append(med)\n",
    "        \n",
    "    return med_data"
   ]
  },
  {
   "cell_type": "code",
   "execution_count": 14,
   "metadata": {
    "id": "MQ6BX685BO0g"
   },
   "outputs": [],
   "source": [
    "assert median(data) == [5.5, 5.75, 4.4, 4.5, 7.0, 5.75]"
   ]
  },
  {
   "cell_type": "code",
   "execution_count": 15,
   "metadata": {
    "id": "tsMZUlpuBO0g"
   },
   "outputs": [],
   "source": [
    "def find_distinct_value(data):\n",
    "    \"\"\"Hàm này sẽ có nhiệm vụ tìm và trả về danh sách chứa các giá trị có thể có của cột 'Ma_mon_ngoai_ngu'\n",
    "\n",
    "    Args:\n",
    "        data <list<list>>: list của các dòng dữ liệu trong file dữ liệu đầu vào, mỗi dòng sẽ là một list các giá trị\n",
    "\n",
    "    Returns:\n",
    "        <list>: list đã được sắp xếp, chứa các giá trị chuỗi có thể có của cột 'Ma_mon_ngoai_ngu'\n",
    "    \"\"\"\n",
    "    # # Chỉ cần quan tâm đến cột 'Ma_mon_ngoai_ngu' và tìm ra các giá trị có thể có\n",
    "    # YOUR CODE HERE\n",
    "    distinct_data = []\n",
    "    \n",
    "    Ma_mon_ngoai_ngu = 3\n",
    "    \n",
    "    for i in range(len(data)):\n",
    "        value = data[i][Ma_mon_ngoai_ngu]\n",
    "        if value == '':\n",
    "            continue\n",
    "        \n",
    "        if value not in distinct_data:\n",
    "            distinct_data.append(value)\n",
    "    \n",
    "    return distinct_data"
   ]
  },
  {
   "cell_type": "markdown",
   "metadata": {
    "id": "h6KE8voSBO0g"
   },
   "source": [
    "Thực hiện đếm số lần xuất hiện của các giá trị đã được tìm và chọn ra giá trị xuất hiện nhiều lần nhất, nếu có nhiều giá trị cùng xuất hiện nhiều lần, thì chọn giá trị nhỏ hơn theo bảng chữ cái"
   ]
  },
  {
   "cell_type": "code",
   "execution_count": 16,
   "metadata": {
    "id": "JXmkV8H8BO0g"
   },
   "outputs": [],
   "source": [
    "def mode(data):\n",
    "    \"\"\"Hàm này sẽ có mục tiêu tìm ra giá trị chuỗi xuất hiện nhiều lần nhất. Để đơn giản, sinh viên chỉ cần quan tâm đến cột 'Ma_mon_ngoai_ngu'\n",
    "\n",
    "    Args:\n",
    "        data <list<list>>: list của các dòng dữ liệu trong file dữ liệu đầu vào, mỗi dòng sẽ là một list các giá trị\n",
    "\n",
    "    Returns:\n",
    "        str: giá trị chuỗi xuất hiện nhiều lần nhất trong cột 'Ma_mon_ngoai_ngu', nếu có nhiều hơn một kết quả, chọn chuỗi nhỏ hơn theo bảng chữ cái\n",
    "    \"\"\"\n",
    "    # YOUR CODE HERE\n",
    "    distinct_data = find_distinct_value(data)\n",
    "    freq = [0] * len(distinct_data)\n",
    "    \n",
    "    Ma_mon_ngoai_ngu = 3\n",
    "    \n",
    "    for i in range(len(data)):\n",
    "        value = data[i][Ma_mon_ngoai_ngu]\n",
    "        pos = 0\n",
    "        for j in range(len(distinct_data)):\n",
    "            if value == distinct_data[j]:\n",
    "                pos = j\n",
    "                break\n",
    "        freq[pos] += 1\n",
    "    \n",
    "    highest_freq_pos = 0\n",
    "    max = 0\n",
    "    \n",
    "    for i in range(len(freq)):\n",
    "        if freq[i] > max:\n",
    "            max = freq[i]\n",
    "            highest_freq_pos = i\n",
    "        elif freq[i] == max:\n",
    "            if distinct_data[highest_freq_pos] <= distinct_data[i]:\n",
    "                pass\n",
    "            else:\n",
    "                highest_freq_pos = i\n",
    "    \n",
    "    return distinct_data[highest_freq_pos]"
   ]
  },
  {
   "cell_type": "markdown",
   "metadata": {
    "id": "H4uNlowbBO0h"
   },
   "source": [
    "Hàm `fill_data` sẽ cho phép tùy chọn điền vào giá trị thiếu của cột dạng numeric bằng giá trị 0 hoặc `mean` hoặc `median`, còn cột có dạng categorical sẽ mặc định được fill bằng mode"
   ]
  },
  {
   "cell_type": "code",
   "execution_count": 17,
   "metadata": {
    "id": "w9MPnkDnBO0h"
   },
   "outputs": [],
   "source": [
    "def fill_data(data, type_on_numeric = 'mean'):\n",
    "    \"\"\"Hàm này có nhiệm vụ điền dữ liệu bị thiếu\n",
    "\n",
    "    Args:\n",
    "        data <list<list>>: list của các dòng dữ liệu trong file dữ liệu đầu vào, mỗi dòng sẽ là một list các giá trị\n",
    "        type_on_numeric (str, optional): phương pháp điền dữ liệu cho cột numeric (const/mean/median)\n",
    "\n",
    "    Returns:\n",
    "        <list<list>>: dữ liệu sau khi đã được điền vào các giá trị thiếu, dữ liệu là list của các dòng, mỗi dòng là một list chứa các giá trị\n",
    "    \"\"\"\n",
    "    mode_data = mode(data)\n",
    "\n",
    "    if type_on_numeric == 'const':\n",
    "        # YOUR CODE HERE\n",
    "        for i in range(len(data)):\n",
    "            for j in range(len(data[0])):\n",
    "                if data[i][j] == '':\n",
    "                    if j != 3:\n",
    "                        data[i][j] = 0\n",
    "                    else:\n",
    "                        data[i][j] = mode_data\n",
    "                    \n",
    "    elif type_on_numeric == 'mean':\n",
    "        # YOUR CODE HERE\n",
    "        mean_data = mean(data)\n",
    "        for i in range(len(data)):\n",
    "            for j in range(len(data[0])):\n",
    "                if data[i][j] == '':\n",
    "                    if j != 3:\n",
    "                        if j == 1 or j == 2:\n",
    "                            data[i][j] = mean_data[j-1]\n",
    "                        else:\n",
    "                            data[i][j] = mean_data[j-2]\n",
    "                    else:\n",
    "                        data[i][j] = mode_data\n",
    "                        \n",
    "    elif type_on_numeric == 'median':\n",
    "        # YOUR CODE HERE\n",
    "        median_data = median(data)\n",
    "        for i in range(len(data)):\n",
    "            for j in range(len(data[0])):\n",
    "                if data[i][j] == '':\n",
    "                    if j != 3:\n",
    "                        if j == 1 or j == 2:\n",
    "                            data[i][j] = median_data[j-1]\n",
    "                        else:\n",
    "                            data[i][j] = median_data[j-2]\n",
    "                    else:\n",
    "                        data[i][j] = mode_data\n",
    "\n",
    "    return data"
   ]
  },
  {
   "cell_type": "code",
   "execution_count": 18,
   "metadata": {
    "id": "kz_tGca9BO0h"
   },
   "outputs": [],
   "source": [
    "header, data = data_reader('diemthi2019.csv')\n",
    "data_filled_const = fill_data(data, type_on_numeric = 'const')\n",
    "header, data = data_reader('diemthi2019.csv')\n",
    "data_filled_mean = fill_data(data, type_on_numeric = 'mean')\n",
    "header, data = data_reader('diemthi2019.csv')\n",
    "data_filled_median = fill_data(data, type_on_numeric = 'median')"
   ]
  },
  {
   "cell_type": "code",
   "execution_count": 19,
   "metadata": {
    "id": "mE88R74DBO0h"
   },
   "outputs": [],
   "source": [
    "assert data_filled_const[20] == [20, 3.0, 0, 'N1', 0, 5.0, 4.8, 0]\n",
    "assert data_filled_const[25] == [25, 3.75, 3.5, 'N1', 0, 0, 6.8, 0]"
   ]
  },
  {
   "cell_type": "code",
   "execution_count": 20,
   "metadata": {
    "id": "Rbw8R2U-BO0h"
   },
   "outputs": [],
   "source": [
    "assert data_filled_mean[20] == [20, 3.0, 5.56, 'N1', 4.76, 5.0, 4.8, 5.62]\n",
    "assert data_filled_mean[25] == [25, 3.75, 3.5, 'N1', 4.76, 4.67, 6.8, 5.62]"
   ]
  },
  {
   "cell_type": "code",
   "execution_count": 21,
   "metadata": {
    "id": "WcA250EWBO0h"
   },
   "outputs": [],
   "source": [
    "assert data_filled_median[20] == [20, 3.0, 5.75, 'N1', 4.4, 5.0, 4.8, 5.75]\n",
    "assert data_filled_median[25] == [25, 3.75, 3.5, 'N1', 4.4, 4.5, 6.8, 5.75]"
   ]
  },
  {
   "cell_type": "markdown",
   "metadata": {
    "id": "cUZCkaD0BO0h"
   },
   "source": [
    "### 3) Xóa các dòng và cột mang số lượng của giá trị thiếu lớn hơn một ngưỡng cho trước (0.5đ)\n",
    "Hàm `filter_missing_row()` sẽ nhận vào dữ liệu và tỉ lệ ngưỡng `ratio` giữa số lượng dữ liệu thiếu và tổng số lượng thuộc tính. Lấy ví dụ, nếu `ratio=0.5` thì các hàng có số lượng giá trị thiếu lớn hơn 50% sẽ bị loại bỏ khỏi tập dữ liệu"
   ]
  },
  {
   "cell_type": "code",
   "execution_count": 22,
   "metadata": {
    "id": "1RZxRkN9BO0h"
   },
   "outputs": [],
   "source": [
    "def filter_missing_row(data, ratio = 0.5):\n",
    "    \"\"\"Hàm này có nhiệm vụ xóa đi các dòng có tỉ lệ dữ liệu bị thiếu LỚN HƠN HOẶC BẰNG một ngưỡng cho trước\n",
    "\n",
    "    Args:\n",
    "        data <list<list>>: list của các dòng dữ liệu trong file dữ liệu đầu vào, mỗi dòng sẽ là một list các giá trị\n",
    "        ratio (float, optional): Tỉ lệ ngưỡng mà dữ liệu cho phép thiếu\n",
    "\n",
    "    Returns:\n",
    "        <list<list>>: dữ liệu sau khi đã được xóa bớt các dòng thiếu lượng lớn dữ liệu, dữ liệu là list của các dòng, mỗi dòng là một list chứa các giá trị\n",
    "    \"\"\"\n",
    "    # YOUR CODEs HERE\n",
    "    popped_pos = []\n",
    "    total_attributes = len(data[0])\n",
    "    for i in range(len(data)):\n",
    "        count = 0\n",
    "        \n",
    "        for j in range(total_attributes):\n",
    "            if data[i][j] == '':\n",
    "                count += 1\n",
    "        \n",
    "        row_ratio = count / total_attributes\n",
    "        \n",
    "        if row_ratio >= ratio:\n",
    "            popped_pos.append(i)\n",
    "            \n",
    "    popped_pos = reversed(popped_pos)\n",
    "    for pos in popped_pos:\n",
    "        data.pop(pos)\n",
    "            \n",
    "    return data"
   ]
  },
  {
   "cell_type": "code",
   "execution_count": 23,
   "metadata": {
    "id": "jYbyEoOfBO0h"
   },
   "outputs": [],
   "source": [
    "header, data = data_reader('diemthi2019.csv')\n",
    "assert len(filter_missing_row(data, 0.3)) == 285581"
   ]
  },
  {
   "cell_type": "markdown",
   "metadata": {
    "id": "brBbE2eQBO0h"
   },
   "source": [
    "Hàm `filter_missing_col()` sẽ nhận vào dữ liệu và tỉ lệ ngưỡng `ratio` giữa số lượng dữ liệu thiếu và tổng số lượng mẫu. Lấy ví dụ, nếu `ratio=0.5` thì các thuộc tính (các cột) có số lượng giá trị thiếu lớn hơn 50% so với số lượng mẫu của tập dữ liệu sẽ bị loại bỏ"
   ]
  },
  {
   "cell_type": "code",
   "execution_count": 24,
   "metadata": {
    "id": "e_1WQUFiBO0h"
   },
   "outputs": [],
   "source": [
    "def filter_missing_col(data, header, ratio = 0.5):\n",
    "    \"\"\"Hàm này có nhiệm vụ xóa đi các cột có tỉ lệ dữ liệu bị thiếu LỚN HƠN HOẶC BẰNG một ngưỡng cho trước\n",
    "\n",
    "    Args:\n",
    "        data <list<list>>: list của các dòng dữ liệu trong file dữ liệu đầu vào, mỗi dòng sẽ là một list các giá trị\n",
    "        ratio (float, optional): Tỉ lệ ngưỡng mà dữ liệu cho phép thiếu\n",
    "\n",
    "    Returns:\n",
    "        <list>: header đã được cập nhật thông qua việc loại bỏ đi bớt các cột không đủ điều kiện (nếu có loại bỏ)\n",
    "        <list<list>>: dữ liệu sau khi đã được xóa bớt các cột thiếu lượng lớn dữ liệu, dữ liệu là list của các dòng, mỗi dòng là một list chứa các giá trị\n",
    "    \"\"\"\n",
    "\n",
    "    # YOUR CODE HERE\n",
    "    popped_pos = []\n",
    "    total_attributes = len(data[0])\n",
    "    total_rows = len(data)\n",
    "    \n",
    "    for i in range(total_attributes):\n",
    "        count = 0\n",
    "        \n",
    "        for j in range(len(data)):\n",
    "            if data[j][i] == '':\n",
    "                count += 1\n",
    "        \n",
    "        col_ratio = count / total_rows\n",
    "        \n",
    "        if col_ratio >= ratio:\n",
    "            popped_pos.append(i)\n",
    "    \n",
    "    # Pop header\n",
    "    for i in range(len(popped_pos), 0, -1):\n",
    "        header.pop(popped_pos[i-1])\n",
    "    \n",
    "    # Create new matrix (popped data)\n",
    "    new_data = []\n",
    "    for i in range(total_rows):\n",
    "        temp = []\n",
    "        for j in range(total_attributes):\n",
    "            if j not in popped_pos:\n",
    "                temp.append(data[i][j])\n",
    "        new_data.append(temp)\n",
    "    \n",
    "    return header, new_data\n"
   ]
  },
  {
   "cell_type": "code",
   "execution_count": 25,
   "metadata": {
    "id": "6pnSdZ8wKIkF"
   },
   "outputs": [],
   "source": [
    "header, data = data_reader('diemthi2019.csv')\n",
    "new_header, new_data = filter_missing_col(data, header, 0.05)"
   ]
  },
  {
   "cell_type": "code",
   "execution_count": 26,
   "metadata": {
    "id": "E1-aotbEBO0h"
   },
   "outputs": [],
   "source": [
    "assert new_header == ['id', 'Hoa', 'Li', 'Sinh', 'Toan', 'Van']\n",
    "# Không tính cột id\n",
    "assert len(new_data[0]) - 1 == 5"
   ]
  },
  {
   "cell_type": "markdown",
   "metadata": {
    "id": "cjnINoa0BO0i"
   },
   "source": [
    "### 4) Xóa các mẫu bị trùng lặp (0.5đ)\n",
    "Kiểm tra, xác định các dòng bị trùng dữ liệu và xóa các dòng đó. \n",
    "\n",
    "Với mỗi dòng, so sánh với các dòng dữ liệu bên dưới để kiểm tra sự trùng lặp, các dòng sẽ được xem là trùng lặp nếu tất cả các thuộc tính giống nhau.\n",
    "\n",
    "Gợi ý: với mỗi dòng dữ liệu tổng hợp lại thành một chuỗi `str` nào đó rồi đưa vào `set`, sau đó dùng `set` để kiểm tra xem dữ liệu đã xuất hiện chưa. "
   ]
  },
  {
   "cell_type": "code",
   "execution_count": 27,
   "metadata": {
    "id": "nI-LzaxbBO0i"
   },
   "outputs": [],
   "source": [
    "def remove_duplicate(data):\n",
    "    \"\"\"Hàm này sẽ thực hiện loại bỏ các dòng bị trùng lặp VỀ MẶT DỮ LIỆU (không xét cột id)\n",
    "\n",
    "    Args:\n",
    "        data <list<list>>: list của các dòng dữ liệu trong file dữ liệu đầu vào, mỗi dòng sẽ là một list các giá trị\n",
    "\n",
    "    Returns:\n",
    "        <list<list>>: dữ liệu sau khi đã được xóa bớt các dòng trùng lặp, dữ liệu là list của các dòng, mỗi dòng là một list chứa các giá trị\n",
    "    \"\"\"\n",
    "    # YOUR CODE HERE\n",
    "    new_data = []\n",
    "    for i in range(len(data)):\n",
    "        temp = []\n",
    "        for j in range(len(data[0])):\n",
    "            if j != 0:\n",
    "                temp.append(data[i][j])\n",
    "        new_data.append(temp)\n",
    "    \n",
    "    str_data = []\n",
    "    \n",
    "    for i in range(len(new_data)):\n",
    "        str_data.append(str(new_data[i]))\n",
    "        \n",
    "    res = [*set(str_data)]\n",
    "    \n",
    "    return res"
   ]
  },
  {
   "cell_type": "code",
   "execution_count": 28,
   "metadata": {
    "id": "rSmbHyLRBO0i"
   },
   "outputs": [],
   "source": [
    "header, data = data_reader('diemthi2019.csv')\n",
    "assert len(remove_duplicate(data)) == 292762"
   ]
  },
  {
   "cell_type": "markdown",
   "metadata": {
    "id": "xymxnJCOBO0i"
   },
   "source": [
    "### 5) Loại bỏ bớt giá trị cực hạn của các cột numeric (1đ)\n",
    "\n",
    "Sinh viên sẽ sử dụng luật 2 sigma (95% dữ liệu sẽ thuộc đoạn [$\\mu \\pm 2*\\sigma$]) và 3 sigma (99.7% dữ liệu sẽ thuộc đoạn [$\\mu \\pm 3*\\sigma$]) để loại bỏ các mẫu có giá trị mang giá trị không bình thường.\n",
    "\n",
    "Hàm `std()` sẽ trả về danh sách chứa các giá trị độ lệch chuẩn của các cột có dạng numeric\n",
    "\n",
    "Hàm `remove_outlier()` sẽ loại bỏ các nhiều bằng các sử dụng lại kết quả của hàm `std()` và hàm `mean()`\n",
    "\n",
    "**Lưu ý:** Các số float cần phải được làm tròn về 2 chữ số bằng hàm `round()`"
   ]
  },
  {
   "cell_type": "code",
   "execution_count": 29,
   "metadata": {
    "id": "m8EPESxGBO0i"
   },
   "outputs": [],
   "source": [
    "def std(data):\n",
    "    \"\"\"Hàm này dùng để tính độ lệch chuẩn theo các cột có dạng numeric\n",
    "\n",
    "    Args:\n",
    "        data <list<list>>: list của các dòng dữ liệu trong file dữ liệu đầu vào, mỗi dòng sẽ là một list các giá trị\n",
    "\n",
    "    Returns:\n",
    "        <list>: list chứa các giá trị độ lệch chuẩn theo từng cột\n",
    "    \"\"\"\n",
    "    # YOUR CODE HERE\n",
    "    ssd = []\n",
    "    \n",
    "    mean_data = mean(data)\n",
    "    mean_index = 0\n",
    "    \n",
    "    for i in range(len(data[0])):\n",
    "        if i == 0 or i == 3:\n",
    "            continue\n",
    "            \n",
    "        amount = 0\n",
    "        temp_ssd = 0\n",
    "        \n",
    "        for j in range(len(data)):\n",
    "            if type(data[j][i]) is not float:\n",
    "                continue\n",
    "                \n",
    "            temp_ssd = temp_ssd + (data[j][i] - mean_data[mean_index])**2\n",
    "            amount += 1\n",
    "        \n",
    "        temp_ssd = (temp_ssd / amount) ** 0.5\n",
    "        temp_ssd = round(temp_ssd, 2)\n",
    "        ssd.append(temp_ssd)\n",
    "        mean_index += 1\n",
    "        \n",
    "    return ssd   "
   ]
  },
  {
   "cell_type": "code",
   "execution_count": 30,
   "metadata": {
    "id": "Yl4auO5rBO0i"
   },
   "outputs": [],
   "source": [
    "header, data = data_reader('diemthi2019.csv')\n",
    "assert std(data) == [1.59, 1.62, 1.78, 1.25, 1.39, 1.11]"
   ]
  },
  {
   "cell_type": "markdown",
   "metadata": {
    "id": "WJBLG6f1BO0i"
   },
   "source": [
    "Hàm `remove_outlier()` sẽ nhận vào `data` và số `k`-sigma mà chúng ta muốn chọn ra từ dữ liệu, dòng dữ liệu sẽ được giữ lại nếu:\n",
    "$$\n",
    "(\\mu_i - k*\\sigma_i) \\le value_i \\le (\\mu + k*\\sigma_i)\n",
    "$$\n",
    "\n",
    "Với $\\sigma_i, value_i$ lần lượt là giá trị của cột $i$ và độ lệch chuẩn của cột $i$ "
   ]
  },
  {
   "cell_type": "code",
   "execution_count": 31,
   "metadata": {
    "id": "el5l1Qr3BO0i"
   },
   "outputs": [],
   "source": [
    "from tqdm import tqdm\n",
    "\n",
    "def remove_outlier(data, k):\n",
    "    \"\"\"Hàm này sẽ loại bỏ các dòng chứa ít nhất một giá trị không thuộc đoạn cho phép ứng với mean và std của từng cột\n",
    "\n",
    "    Args:\n",
    "        data <list<list>>: list của các dòng dữ liệu trong file dữ liệu đầu vào, mỗi dòng sẽ là một list các giá trị\n",
    "        k <float>: số lượng sigma được dùng để tính khoảng \n",
    "\n",
    "    Returns:\n",
    "        <list<list>>: dữ liệu sau khi đã được xóa bớt các dòng có chứa giá trị không thuộc đoạn dữ liệu cho phép, dữ liệu là list của các dòng, mỗi dòng là một list chứa các giá trị\n",
    "    \"\"\"\n",
    "    # YOUR CODE HERE\n",
    "    ssd_data = std(data)\n",
    "    mean_data = mean(data)\n",
    "    \n",
    "    data_index = [1, 2, 4, 5, 6, 7]\n",
    "    \n",
    "    not_satisfied = []\n",
    "    \n",
    "    for i in range(len(mean_data)):  \n",
    "        min = mean_data[i] - k * ssd_data[i]\n",
    "        max = mean_data[i] + k * ssd_data[i]\n",
    "        \n",
    "        for j in range(len(data)):\n",
    "            index = data_index[i]\n",
    "            if type(data[j][index]) is not float:\n",
    "                continue\n",
    "\n",
    "            if data[j][index] < min or data[j][index] > max:\n",
    "                if j not in not_satisfied:\n",
    "                    not_satisfied.append(j)\n",
    "        \n",
    "    not_satisfied = sorted(not_satisfied, reverse=True)\n",
    "    \n",
    "    for i in range(len(not_satisfied)):\n",
    "        data.pop(not_satisfied[i])\n",
    "    \n",
    "    return data\n"
   ]
  },
  {
   "cell_type": "markdown",
   "metadata": {
    "id": "-Hp6sOdLBO0i"
   },
   "source": [
    "Do hàm này có khá nhiều phép so sánh nên mình sẽ chọn ra 1000 mẫu đầu tiên của dữ liệu để kiểm tra hàm"
   ]
  },
  {
   "cell_type": "code",
   "execution_count": 32,
   "metadata": {
    "id": "Klz8rPutBO0i",
    "scrolled": true
   },
   "outputs": [],
   "source": [
    "header, data = data_reader('diemthi2019.csv')\n",
    "sampled_data = data[0:1000]\n",
    "assert len(remove_outlier(sampled_data, k = 2)) == 810"
   ]
  },
  {
   "cell_type": "markdown",
   "metadata": {
    "id": "oIE3hKa2BO0i"
   },
   "source": [
    "### 6) Tính điểm tổ hợp môn (1.5đ)\n",
    "\n",
    "Sinh viên cần tạo thêm các cột mới chứa điểm tổ hợp các môn theo thứ tự lần lượt [`A`, `A1`, `A2`, `B`, `D`]. Cụ thể, sinh viên cần tính điểm tổ hợp khối `A`, khối `A1`, khối `A2`, khối `B` và khối `D` theo cách tính.\n",
    "\n",
    "Cột `A` = `Toan` + `Li` + `Hoa`\n",
    "\n",
    "Cột `A1` = `Toan` + `Li` + `Ngoai_ngu`\n",
    "\n",
    "Cột `A2` = `Toan` + `Hoa` + `Ngoai_ngu` \n",
    "\n",
    "Cột `B` = `Toan` + `Hoa` + `Sinh`\n",
    "\n",
    "Cột `D` = `Toan` + `Van` + `Ngoai_ngu`\n",
    "\n",
    "**Lưu ý:** khối `A1`, khối `A2` chỉ được tính khi `Ma_mon_ngoai_ngu = N1`, nếu `Ma_mon_ngoai_ngu != N1`, thì cột `A1` và `A2` sẽ có giá trị 0\n",
    "\n",
    "Xét ví dụ: \n",
    "\n",
    "+ Cho header\n",
    "\n",
    "['id', 'Hoa', 'Li', 'Ma_mon_ngoai_ngu', 'Ngoai_ngu', 'Sinh', 'Toan', 'Van']\n",
    "\n",
    "+ Xét mẫu dữ liệu\n",
    "\n",
    "[0, 4.5, 8.25, 'N1', 8.0, 6.0, 8.6, 6.17]\n",
    "\n",
    "+ Header sẽ được xây dựng thành\n",
    "\n",
    "['id', 'Hoa', 'Li', 'Ma_mon_ngoai_ngu', 'Ngoai_ngu', 'Sinh', 'Toan', 'Van', `'A'`, `'A1'`, `'A2'`, `'B'`, `'D'`]\n",
    "\n",
    "+ Dữ liệu xây dựng thành\n",
    "\n",
    "[0, 4.5, 8.25, N1, 8.0, 6.0, 8.6, 6.17, `A`, `A1`, `A2`, `B`, `D`]\n",
    "\n",
    "+ Và bằng\n",
    "\n",
    "[0, 4.5, 8.25, N1, 8.0, 6.0, 8.6, 6.17, `21.35`, `24.85`, `21.1`, `19.1`, `22.77`]\n",
    "\n",
    "Sinh viên sử dụng dữ liệu đã được điền đầy đủ giá trị bằng giá trị 0 (data_filled_const) để tính tổng, vì thí sinh không dự thi đồng nghĩa với điểm bằng 0 khi xét tổ hợp môn. Điểm số sẽ được làm tròn tối đa 2 chữ số thập phân bằng hàm `round()`"
   ]
  },
  {
   "cell_type": "code",
   "execution_count": 33,
   "metadata": {
    "id": "KfocAckkBO0i"
   },
   "outputs": [],
   "source": [
    "# Sinh viên uncomment đoạn code này để đọc vào dữ liệu đã được điền thiếu có sẵn nếu không làm được câu 2\n",
    "# header, data_filled_const = data_reader('data_filled_const.csv')\n",
    "# assert data_filled_const[20] == [20, 3.0, 0, 'N1', 0, 5.0, 4.8, 0]"
   ]
  },
  {
   "cell_type": "code",
   "execution_count": 34,
   "metadata": {
    "id": "hC1i2kPDBO0i"
   },
   "outputs": [],
   "source": [
    "def calculate_combination(data, header):\n",
    "    \"\"\"Hàm này sẽ có nhiệm vụ xây dựng nên các thuộc tính mới cho dữ liệu, cụ thể là tính điểm tổ hợp các khối liên quan\n",
    "\n",
    "    Args:\n",
    "        data <list<list>>: list của các dòng dữ liệu trong file dữ liệu đầu vào, mỗi dòng sẽ là một list các giá trị\n",
    "        header <list>: list chứa tên của các cột thuộc tính\n",
    "\n",
    "\n",
    "    Returns:\n",
    "        <list>: header đã được cập nhật thêm tên của các cột thuộc tính mới\n",
    "        <list<list>>: dữ liệu sau khi đã được xóa bớt các dòng có chứa giá trị không thuộc đoạn dữ liệu cho phép, dữ liệu là list của các dòng, mỗi dòng là một list chứa các giá trị\n",
    "    \"\"\"\n",
    "    # YOUR CODE HERE\n",
    "    new_data = data\n",
    "    new_header = []\n",
    "    \n",
    "    # Process new header\n",
    "    h = ['A', 'A1', 'A2', 'B', 'D']\n",
    "    for val in header:\n",
    "        new_header.append(val)\n",
    "    new_header += h\n",
    "    \n",
    "    # Process new data\n",
    "    for i in range(len(new_data)):\n",
    "        A = new_data[i][6] + new_data[i][2] + new_data[i][1]\n",
    "        if new_data[i][3] != 'N1':\n",
    "            A1 = 0\n",
    "            A2 = 0\n",
    "        else:\n",
    "            A1 = new_data[i][6] + new_data[i][2] + new_data[i][4]\n",
    "            A2 = new_data[i][6] + new_data[i][1] + new_data[i][4]\n",
    "        B = new_data[i][6] + new_data[i][1]+ new_data[i][5]\n",
    "        D = new_data[i][6] + new_data[i][7] + new_data[i][4]\n",
    "        new_data[i] += [A, A1, A2, B, D]\n",
    "    \n",
    "    return new_header, new_data"
   ]
  },
  {
   "cell_type": "code",
   "execution_count": 35,
   "metadata": {
    "id": "8jFCsRuEBO0i"
   },
   "outputs": [],
   "source": [
    "new_header, new_data = calculate_combination(data_filled_const, header)"
   ]
  },
  {
   "cell_type": "code",
   "execution_count": 36,
   "metadata": {
    "id": "Ct--Ef71BO0i"
   },
   "outputs": [],
   "source": [
    "assert new_header == ['id', 'Hoa', 'Li', 'Ma_mon_ngoai_ngu', 'Ngoai_ngu', 'Sinh', 'Toan', 'Van', 'A', 'A1', 'A2', 'B', 'D']\n",
    "assert new_data[0] == [0, 4.5, 8.25, 'N1', 8.0, 6.0, 8.6, 6.17, 21.35, 24.85, 21.1, 19.1, 22.77]"
   ]
  },
  {
   "cell_type": "markdown",
   "metadata": {
    "id": "CiRdJi9eBO0i"
   },
   "source": [
    "### 7) Chuẩn hóa dữ liệu (1đ)\n",
    "\n",
    "Sinh viên cần chuẩn hóa các cột dạng numeric theo phương pháp min-max và Z-score\n",
    "\n",
    "Sử dụng kết quả dữ liệu tìm được ở câu 2 để làm input cho hàm chuẩn hóa "
   ]
  },
  {
   "cell_type": "code",
   "execution_count": 37,
   "metadata": {
    "id": "BP2otTJyBO0i"
   },
   "outputs": [],
   "source": [
    "# Sinh viên uncomment đoạn code này để đọc vào dữ liệu đã được điền thiếu có sẵn nếu không làm được câu 2\n",
    "# header, data_filled_const = data_reader('data_filled_const.csv')\n",
    "# assert data_filled_const[20] == [20, 3.0, 0, 'N1', 0, 5.0, 4.8, 0]"
   ]
  },
  {
   "cell_type": "code",
   "execution_count": 38,
   "metadata": {
    "id": "9HrAyTs7BO0j"
   },
   "outputs": [],
   "source": [
    "def min_max_value(data):\n",
    "    \"\"\"Hàm này sẽ có nhiệm vụ tìm các giá trị min và max theo từng cột thuộc tính của dữ liệu đầu vào\n",
    "\n",
    "    Args:\n",
    "        data <list<list>>: list của các dòng dữ liệu trong file dữ liệu đầu vào, mỗi dòng sẽ là một list các giá trị\n",
    "\n",
    "    Returns:\n",
    "        <list>: list chứa các giá trị min ứng với từng cột thuộc tính có dạng numeric\n",
    "        <list>: list chứa các giá trị max ứng với từng cột thuộc tính có dạng numeric\n",
    "    \"\"\"\n",
    "    min = []\n",
    "    max = []\n",
    "    \n",
    "    for i in range(len(data[0])):\n",
    "            \n",
    "        min_val = 10\n",
    "        max_val = 0\n",
    "        \n",
    "        if i == 3:\n",
    "            min.append(data[j][i])\n",
    "            max.append(data[j][i])\n",
    "            continue\n",
    "        \n",
    "        for j in range(len(data)):\n",
    "            \n",
    "            if data[j][i] < min_val:\n",
    "                min_val = data[j][i]\n",
    "                \n",
    "            if data[j][i] > max_val:\n",
    "                max_val = data[j][i]\n",
    "        \n",
    "        min.append(min_val)\n",
    "        max.append(max_val)\n",
    "\n",
    "    return min, max"
   ]
  },
  {
   "cell_type": "code",
   "execution_count": 39,
   "metadata": {
    "id": "6dy2njaMBO0j"
   },
   "outputs": [],
   "source": [
    "def min_max_scaler(data):\n",
    "    \"\"\"Hàm này sẽ có nhiệm vụ chuẩn hóa dữ liệu theo phương pháp min-max\n",
    "\n",
    "    Args:\n",
    "        data <list<list>>: list của các dòng dữ liệu trong file dữ liệu đầu vào, mỗi dòng sẽ là một list các giá trị\n",
    "\n",
    "    Returns:\n",
    "        <list<list>>: dữ liệu sau khi đã được chuẩn hóa theo phương pháp min-max, dữ liệu là list của các dòng, mỗi dòng là một list chứa các giá trị\n",
    "    \"\"\"\n",
    "    # YOUR CODE HERE\n",
    "    min, max = min_max_value(data)\n",
    "    new_min = 0\n",
    "    new_max = 1\n",
    "    new_data = data\n",
    "    \n",
    "    for i in range(len(new_data[0])):\n",
    "        if i == 0 or i == 3:\n",
    "            continue\n",
    "            \n",
    "        old_min = min[i]\n",
    "        old_max = max[i]\n",
    "        \n",
    "        for j in range(len(new_data)):\n",
    "            new_data[j][i] = ((new_data[j][i] - old_min) / (old_max - old_min)) * (new_max - new_min) + new_min\n",
    "            new_data[j][i] = round(new_data[j][i], 2)\n",
    "\n",
    "    return new_data"
   ]
  },
  {
   "cell_type": "code",
   "execution_count": 40,
   "metadata": {
    "id": "d0XhyfU4BO0j"
   },
   "outputs": [],
   "source": [
    "def standard_scaler(data):\n",
    "    \"\"\"Hàm này sẽ có nhiệm vụ chuẩn hóa dữ liệu theo phương pháp z-score. Sử dụng lại hàm mean() và std() nếu có thể.\n",
    "\n",
    "    Args:\n",
    "        data <list<list>>: list của các dòng dữ liệu trong file dữ liệu đầu vào, mỗi dòng sẽ là một list các giá trị\n",
    "\n",
    "    Returns:\n",
    "        <list<list>>: dữ liệu sau khi đã được chuẩn hóa theo phương pháp z-score, dữ liệu là list của các dòng, mỗi dòng là một list chứa các giá trị\n",
    "    \"\"\"\n",
    "    # YOUR CODE HERE\n",
    "    def mean_not_round(data):\n",
    "        sum, count_not_NaN = sum_data(data)\n",
    "        for i in range(len(sum)):\n",
    "            sum[i] = sum[i] / count_not_NaN[i]\n",
    "        mean_data = sum\n",
    "        return mean_data\n",
    "    \n",
    "    def std_not_round(data):\n",
    "        ssd = []\n",
    "        mean_data = mean_not_round(data)\n",
    "        mean_index = 0\n",
    "        for i in range(len(data[0])):\n",
    "            if i == 0 or i == 3:\n",
    "                continue\n",
    "            temp_ssd = 0\n",
    "            amount = 0\n",
    "            for j in range(len(data)):\n",
    "                temp_ssd = temp_ssd + (data[j][i] - mean_data[mean_index])**2\n",
    "                amount += 1\n",
    "            temp_ssd = (temp_ssd / amount) ** 0.5\n",
    "            ssd.append(temp_ssd)\n",
    "            mean_index += 1\n",
    "        return ssd  \n",
    "    \n",
    "    std_data = std_not_round(data)\n",
    "    mean_data = mean_not_round(data)\n",
    "    new_data = data\n",
    "    \n",
    "    count = 0\n",
    "    \n",
    "    for i in range(len(data[0])):\n",
    "        if i == 0 or i == 3:\n",
    "            continue\n",
    "            \n",
    "        for j in range(len(data)):\n",
    "            new_data[j][i] = (new_data[j][i] - mean_data[count]) / std_data[count]\n",
    "            new_data[j][i] = round(new_data[j][i], 2)\n",
    "            \n",
    "        count += 1\n",
    "\n",
    "    return new_data"
   ]
  },
  {
   "cell_type": "code",
   "execution_count": 41,
   "metadata": {
    "id": "LPEcTMm6BO0j"
   },
   "outputs": [],
   "source": [
    "header, data = data_reader('diemthi2019.csv')\n",
    "data_filled_const = fill_data(data, type_on_numeric = 'const')\n",
    "min_max_normalized_data = min_max_scaler(data_filled_const)\n",
    "\n",
    "header, data = data_reader('diemthi2019.csv')\n",
    "data_filled_const = fill_data(data, type_on_numeric = 'const')\n",
    "standard_normalized_data = standard_scaler(data_filled_const)"
   ]
  },
  {
   "cell_type": "code",
   "execution_count": 42,
   "metadata": {
    "id": "yPvpMz0TBO0j"
   },
   "outputs": [],
   "source": [
    "assert min_max_normalized_data[0] == [0, 0.45, 0.82, 'N1', 0.8, 0.6, 0.86, 0.65]\n",
    "assert standard_normalized_data[0] == [0, -0.5, 1.58, 'N1', 1.72, 1.02, 1.29, 0.5]"
   ]
  },
  {
   "cell_type": "markdown",
   "metadata": {
    "id": "M4USH_RVBO0j"
   },
   "source": [
    "### 8) Mã hóa one-hot (1đ)\n",
    "\n",
    "Biến đổi cột `Ma_mon_ngoai_ngu` (cột dạng categorical) theo phương pháp mã hóa one-hot\n",
    "\n",
    "Xét ví dụ: \n",
    "\n",
    "+ Cho header\n",
    "\n",
    "['id', 'Hoa', 'Li', 'Ma_mon_ngoai_ngu', 'Ngoai_ngu', 'Sinh', 'Toan', 'Van']\n",
    "\n",
    "+ Xét mẫu dữ liệu\n",
    "\n",
    "[0, 4.5, 8.25, 'N1', 8.0, 6.0, 8.6, 6.17]\n",
    "\n",
    "+ Header được xây dựng thành\n",
    "\n",
    "['id', 'Hoa', 'Li', 'Ngoai_ngu', 'Sinh', 'Toan', 'Van', `'N1'`, `'N2'`, `'N3'`, `'N4'`, `'N5'`, `'N6'`]\n",
    "\n",
    "+ Và dữ liệu bằng\n",
    "\n",
    "[0, 4.5, 8.25, 8.0, 6.0, 8.6, 6.17, `1`, `0`, `0`, `0`, `0`, `0`]\n",
    "\n",
    "**Lưu ý:** Sinh viên cần tự cài đặt hàm tìm các giá trị có thể có của một cột dạng categorical và lưu các giá trị của cột đó bằng một danh sách đã được sắp xếp tăng dần theo bảng chữ cái (nếu không thực hiện được câu 2)\n",
    "\n",
    "Sử dụng kết quả dữ liệu tìm được ở câu 2 để làm input"
   ]
  },
  {
   "cell_type": "code",
   "execution_count": 43,
   "metadata": {
    "id": "CO5997q7E5Va"
   },
   "outputs": [],
   "source": [
    "# Sinh viên uncomment đoạn code này để đọc vào dữ liệu đã được điền thiếu có sẵn nếu không làm được câu 2\n",
    "# header, data_filled_const = data_reader('data_filled_const.csv')\n",
    "# assert data_filled_const[20] == [20, 3.0, 0, 'N1', 0, 5.0, 4.8, 0]"
   ]
  },
  {
   "cell_type": "code",
   "execution_count": 44,
   "metadata": {
    "id": "vRxX3u2sBO0j"
   },
   "outputs": [],
   "source": [
    "def OneHotEncoder(data, header):\n",
    "    \"\"\"Hàm này sẽ có nhiệm mã hóa one-hot dữ liệu trên cột 'Ma_mon_ngoai_ngu'\n",
    "\n",
    "    Args:\n",
    "        data <list<list>>: list của các dòng dữ liệu trong file dữ liệu đầu vào, mỗi dòng sẽ là một list các giá trị\n",
    "        header <list>: list chứa tên của các cột thuộc tính\n",
    "\n",
    "\n",
    "    Returns:\n",
    "        <list>: header đã được cập nhật thêm tên của các cột thuộc tính mới và đã loại bỏ đi cột 'Ma_mon_ngoai_ngu'\n",
    "        <list<list>>: dữ liệu sau khi đã được mã hóa one-hot, dữ liệu là list của các dòng, mỗi dòng là một list chứa các giá trị\n",
    "    \"\"\"\n",
    "    # YOUR CODE HERE\n",
    "    h = ['N1', 'N2', 'N3', 'N4', 'N5', 'N6']\n",
    "    new_header = header + h\n",
    "    new_data = []\n",
    "    \n",
    "    for i in range(len(data)):\n",
    "        arr = []\n",
    "        for j in range(len(data[0])):\n",
    "            if j != 3:\n",
    "                arr.append(data[i][j])\n",
    "        new_data.append(arr)\n",
    "    \n",
    "    for i in range(len(data)):\n",
    "        language_data = [0, 0, 0, 0, 0, 0]\n",
    "        \n",
    "        for j in range(len(h)):\n",
    "            if data[i][3] == h[j]:\n",
    "                language_data[j] = 1\n",
    "                break\n",
    "        \n",
    "        new_data[i] +=  language_data\n",
    "            \n",
    "    return new_header, new_data        "
   ]
  },
  {
   "cell_type": "code",
   "execution_count": 45,
   "metadata": {
    "id": "KVUSzIdgBO0j"
   },
   "outputs": [],
   "source": [
    "header, data = data_reader('diemthi2019.csv')\n",
    "data_filled_const = fill_data(data, type_on_numeric = 'const')\n",
    "new_header, new_data = OneHotEncoder(data_filled_const, header)"
   ]
  },
  {
   "cell_type": "code",
   "execution_count": 46,
   "metadata": {
    "id": "pNODJ2q_BO0j"
   },
   "outputs": [],
   "source": [
    "assert new_data[0] == [0, 4.5, 8.25, 8.0, 6.0, 8.6, 6.17, 1, 0, 0, 0, 0, 0]"
   ]
  },
  {
   "cell_type": "markdown",
   "metadata": {
    "id": "Z40RsGYLBO0j"
   },
   "source": [
    "## Phần 2: Làm quen với numpy và pandas (2.5đ)\n",
    "\n",
    "Đa số các yêu cầu trên đề được hỗ trợ bởi pandas và numpy. \n",
    "\n",
    "Sang đến phần này yêu cầu sinh viên tính độ tương quan giữa các cặp thuộc tính dạng numeric. \n",
    "\n",
    "Phần này cho phép sinh viên sử làm quen và sử dụng pandas để tính toán, và trực quan, tuy nhiên phần nào mình yêu cầu cài đặt thì sinh viên không được sử dụng thư viện có sẵn.\n",
    "\n",
    "Phần này sinh viên có thể tạo thêm cell nếu cần thiết"
   ]
  },
  {
   "cell_type": "code",
   "execution_count": 92,
   "metadata": {
    "id": "khYYL9L7BO0j"
   },
   "outputs": [],
   "source": [
    "import pandas as pd\n",
    "import matplotlib.pyplot as plt\n",
    "import seaborn as sb\n",
    "import numpy as np"
   ]
  },
  {
   "cell_type": "code",
   "execution_count": 93,
   "metadata": {
    "id": "caBHz9x_BO0j"
   },
   "outputs": [
    {
     "data": {
      "text/html": [
       "<div>\n",
       "<style scoped>\n",
       "    .dataframe tbody tr th:only-of-type {\n",
       "        vertical-align: middle;\n",
       "    }\n",
       "\n",
       "    .dataframe tbody tr th {\n",
       "        vertical-align: top;\n",
       "    }\n",
       "\n",
       "    .dataframe thead th {\n",
       "        text-align: right;\n",
       "    }\n",
       "</style>\n",
       "<table border=\"1\" class=\"dataframe\">\n",
       "  <thead>\n",
       "    <tr style=\"text-align: right;\">\n",
       "      <th></th>\n",
       "      <th>Hoa</th>\n",
       "      <th>Li</th>\n",
       "      <th>Ma_mon_ngoai_ngu</th>\n",
       "      <th>Ngoai_ngu</th>\n",
       "      <th>Sinh</th>\n",
       "      <th>Toan</th>\n",
       "      <th>Van</th>\n",
       "    </tr>\n",
       "    <tr>\n",
       "      <th>id</th>\n",
       "      <th></th>\n",
       "      <th></th>\n",
       "      <th></th>\n",
       "      <th></th>\n",
       "      <th></th>\n",
       "      <th></th>\n",
       "      <th></th>\n",
       "    </tr>\n",
       "  </thead>\n",
       "  <tbody>\n",
       "    <tr>\n",
       "      <th>0</th>\n",
       "      <td>4.50</td>\n",
       "      <td>8.25</td>\n",
       "      <td>N1</td>\n",
       "      <td>8.0</td>\n",
       "      <td>6.00</td>\n",
       "      <td>8.6</td>\n",
       "      <td>6.17</td>\n",
       "    </tr>\n",
       "    <tr>\n",
       "      <th>1</th>\n",
       "      <td>5.75</td>\n",
       "      <td>7.50</td>\n",
       "      <td>N1</td>\n",
       "      <td>4.4</td>\n",
       "      <td>3.00</td>\n",
       "      <td>7.2</td>\n",
       "      <td>6.75</td>\n",
       "    </tr>\n",
       "    <tr>\n",
       "      <th>2</th>\n",
       "      <td>3.50</td>\n",
       "      <td>5.50</td>\n",
       "      <td>N1</td>\n",
       "      <td>2.2</td>\n",
       "      <td>3.75</td>\n",
       "      <td>5.6</td>\n",
       "      <td>4.50</td>\n",
       "    </tr>\n",
       "    <tr>\n",
       "      <th>3</th>\n",
       "      <td>5.00</td>\n",
       "      <td>7.00</td>\n",
       "      <td>N1</td>\n",
       "      <td>3.6</td>\n",
       "      <td>4.75</td>\n",
       "      <td>7.0</td>\n",
       "      <td>6.25</td>\n",
       "    </tr>\n",
       "    <tr>\n",
       "      <th>4</th>\n",
       "      <td>6.75</td>\n",
       "      <td>8.00</td>\n",
       "      <td>N1</td>\n",
       "      <td>8.8</td>\n",
       "      <td>6.25</td>\n",
       "      <td>7.8</td>\n",
       "      <td>7.25</td>\n",
       "    </tr>\n",
       "    <tr>\n",
       "      <th>...</th>\n",
       "      <td>...</td>\n",
       "      <td>...</td>\n",
       "      <td>...</td>\n",
       "      <td>...</td>\n",
       "      <td>...</td>\n",
       "      <td>...</td>\n",
       "      <td>...</td>\n",
       "    </tr>\n",
       "    <tr>\n",
       "      <th>296975</th>\n",
       "      <td>5.50</td>\n",
       "      <td>5.50</td>\n",
       "      <td>N1</td>\n",
       "      <td>2.8</td>\n",
       "      <td>3.75</td>\n",
       "      <td>6.6</td>\n",
       "      <td>4.00</td>\n",
       "    </tr>\n",
       "    <tr>\n",
       "      <th>296976</th>\n",
       "      <td>4.50</td>\n",
       "      <td>5.25</td>\n",
       "      <td>N1</td>\n",
       "      <td>3.8</td>\n",
       "      <td>5.75</td>\n",
       "      <td>6.2</td>\n",
       "      <td>4.50</td>\n",
       "    </tr>\n",
       "    <tr>\n",
       "      <th>296977</th>\n",
       "      <td>3.25</td>\n",
       "      <td>4.25</td>\n",
       "      <td>N1</td>\n",
       "      <td>3.2</td>\n",
       "      <td>5.50</td>\n",
       "      <td>5.4</td>\n",
       "      <td>5.75</td>\n",
       "    </tr>\n",
       "    <tr>\n",
       "      <th>296978</th>\n",
       "      <td>4.50</td>\n",
       "      <td>3.75</td>\n",
       "      <td>N1</td>\n",
       "      <td>4.4</td>\n",
       "      <td>4.00</td>\n",
       "      <td>5.2</td>\n",
       "      <td>6.25</td>\n",
       "    </tr>\n",
       "    <tr>\n",
       "      <th>296979</th>\n",
       "      <td>4.50</td>\n",
       "      <td>5.25</td>\n",
       "      <td>N1</td>\n",
       "      <td>2.2</td>\n",
       "      <td>3.75</td>\n",
       "      <td>6.4</td>\n",
       "      <td>5.75</td>\n",
       "    </tr>\n",
       "  </tbody>\n",
       "</table>\n",
       "<p>296980 rows × 7 columns</p>\n",
       "</div>"
      ],
      "text/plain": [
       "         Hoa    Li Ma_mon_ngoai_ngu  Ngoai_ngu  Sinh  Toan   Van\n",
       "id                                                              \n",
       "0       4.50  8.25               N1        8.0  6.00   8.6  6.17\n",
       "1       5.75  7.50               N1        4.4  3.00   7.2  6.75\n",
       "2       3.50  5.50               N1        2.2  3.75   5.6  4.50\n",
       "3       5.00  7.00               N1        3.6  4.75   7.0  6.25\n",
       "4       6.75  8.00               N1        8.8  6.25   7.8  7.25\n",
       "...      ...   ...              ...        ...   ...   ...   ...\n",
       "296975  5.50  5.50               N1        2.8  3.75   6.6  4.00\n",
       "296976  4.50  5.25               N1        3.8  5.75   6.2  4.50\n",
       "296977  3.25  4.25               N1        3.2  5.50   5.4  5.75\n",
       "296978  4.50  3.75               N1        4.4  4.00   5.2  6.25\n",
       "296979  4.50  5.25               N1        2.2  3.75   6.4  5.75\n",
       "\n",
       "[296980 rows x 7 columns]"
      ]
     },
     "execution_count": 93,
     "metadata": {},
     "output_type": "execute_result"
    }
   ],
   "source": [
    "df = pd.read_csv('data_filled_const.csv', index_col = 'id')\n",
    "df"
   ]
  },
  {
   "cell_type": "markdown",
   "metadata": {
    "id": "FcDON7J7BO0j"
   },
   "source": [
    "### 9) Tính độ tương quan giữa các cột thuộc tính (1đ)\n",
    "\n",
    "Sinh viên thực hiện tính độ tương quan (correlation) giữa các cặp thuộc tính có dạng numeric, và trực quan hóa theo biểu đồ heat map\n",
    "\n",
    "Tham khảo:\n",
    "\n",
    "[https://pandas.pydata.org/docs/reference/api/pandas.DataFrame.corr.html](https://pandas.pydata.org/docs/reference/api/pandas.DataFrame.corr.html)\n",
    "\n",
    "[https://seaborn.pydata.org/generated/seaborn.heatmap.html](https://seaborn.pydata.org/generated/seaborn.heatmap.html)\n",
    "\n",
    "Sau đó sử dụng thông tin về độ tương quan để kiểm tra giả thuyết :\n",
    "\n",
    "    Thí sinh học toán tốt sẽ có xu hướng học lý hoặc học hóa tốt"
   ]
  },
  {
   "cell_type": "code",
   "execution_count": 94,
   "metadata": {
    "id": "zUTHYxo2BO0j"
   },
   "outputs": [
    {
     "data": {
      "text/html": [
       "<div>\n",
       "<style scoped>\n",
       "    .dataframe tbody tr th:only-of-type {\n",
       "        vertical-align: middle;\n",
       "    }\n",
       "\n",
       "    .dataframe tbody tr th {\n",
       "        vertical-align: top;\n",
       "    }\n",
       "\n",
       "    .dataframe thead th {\n",
       "        text-align: right;\n",
       "    }\n",
       "</style>\n",
       "<table border=\"1\" class=\"dataframe\">\n",
       "  <thead>\n",
       "    <tr style=\"text-align: right;\">\n",
       "      <th></th>\n",
       "      <th>Hoa</th>\n",
       "      <th>Li</th>\n",
       "      <th>Ngoai_ngu</th>\n",
       "      <th>Sinh</th>\n",
       "      <th>Toan</th>\n",
       "      <th>Van</th>\n",
       "    </tr>\n",
       "  </thead>\n",
       "  <tbody>\n",
       "    <tr>\n",
       "      <th>Hoa</th>\n",
       "      <td>1.000000</td>\n",
       "      <td>0.464697</td>\n",
       "      <td>0.196722</td>\n",
       "      <td>0.442047</td>\n",
       "      <td>0.607453</td>\n",
       "      <td>0.211262</td>\n",
       "    </tr>\n",
       "    <tr>\n",
       "      <th>Li</th>\n",
       "      <td>0.464697</td>\n",
       "      <td>1.000000</td>\n",
       "      <td>0.462683</td>\n",
       "      <td>0.134804</td>\n",
       "      <td>0.635828</td>\n",
       "      <td>0.338581</td>\n",
       "    </tr>\n",
       "    <tr>\n",
       "      <th>Ngoai_ngu</th>\n",
       "      <td>0.196722</td>\n",
       "      <td>0.462683</td>\n",
       "      <td>1.000000</td>\n",
       "      <td>0.290780</td>\n",
       "      <td>0.462935</td>\n",
       "      <td>0.468101</td>\n",
       "    </tr>\n",
       "    <tr>\n",
       "      <th>Sinh</th>\n",
       "      <td>0.442047</td>\n",
       "      <td>0.134804</td>\n",
       "      <td>0.290780</td>\n",
       "      <td>1.000000</td>\n",
       "      <td>0.359827</td>\n",
       "      <td>0.344441</td>\n",
       "    </tr>\n",
       "    <tr>\n",
       "      <th>Toan</th>\n",
       "      <td>0.607453</td>\n",
       "      <td>0.635828</td>\n",
       "      <td>0.462935</td>\n",
       "      <td>0.359827</td>\n",
       "      <td>1.000000</td>\n",
       "      <td>0.285209</td>\n",
       "    </tr>\n",
       "    <tr>\n",
       "      <th>Van</th>\n",
       "      <td>0.211262</td>\n",
       "      <td>0.338581</td>\n",
       "      <td>0.468101</td>\n",
       "      <td>0.344441</td>\n",
       "      <td>0.285209</td>\n",
       "      <td>1.000000</td>\n",
       "    </tr>\n",
       "  </tbody>\n",
       "</table>\n",
       "</div>"
      ],
      "text/plain": [
       "                Hoa        Li  Ngoai_ngu      Sinh      Toan       Van\n",
       "Hoa        1.000000  0.464697   0.196722  0.442047  0.607453  0.211262\n",
       "Li         0.464697  1.000000   0.462683  0.134804  0.635828  0.338581\n",
       "Ngoai_ngu  0.196722  0.462683   1.000000  0.290780  0.462935  0.468101\n",
       "Sinh       0.442047  0.134804   0.290780  1.000000  0.359827  0.344441\n",
       "Toan       0.607453  0.635828   0.462935  0.359827  1.000000  0.285209\n",
       "Van        0.211262  0.338581   0.468101  0.344441  0.285209  1.000000"
      ]
     },
     "execution_count": 94,
     "metadata": {},
     "output_type": "execute_result"
    }
   ],
   "source": [
    "corr_data = df.corr()\n",
    "df.corr()"
   ]
  },
  {
   "cell_type": "code",
   "execution_count": 95,
   "metadata": {
    "id": "H-L08uT2BO0j"
   },
   "outputs": [
    {
     "data": {
      "image/png": "[encoded data removed]",
      "text/plain": [
       "<Figure size 432x288 with 2 Axes>"
      ]
     },
     "metadata": {
      "needs_background": "light"
     },
     "output_type": "display_data"
    },
    {
     "name": "stdout",
     "output_type": "stream",
     "text": [
      "Theo dữ liệu tương quan giữa các thuộc tính, ta có thể giả thiết rằng tỉ lệ học sinh học tốt toán sẽ có xu hướng học lý tốt hoặc học hóa tốt (cả hai tương quan Toán-Lý, Toán-Hóa là cao nhất và đều trên 0.6).\n"
     ]
    }
   ],
   "source": [
    "hm = sb.heatmap(data = corr_data)\n",
    "plt.show()\n",
    "print(\"Theo dữ liệu tương quan giữa các thuộc tính, ta có thể giả thiết rằng tỉ lệ học sinh học tốt toán sẽ có xu hướng học lý tốt hoặc học hóa tốt (cả hai tương quan Toán-Lý, Toán-Hóa là cao nhất và đều trên 0.6).\")"
   ]
  },
  {
   "cell_type": "markdown",
   "metadata": {
    "id": "K42FdLpmBO0k"
   },
   "source": [
    "### 10) Trực quan hóa (1.5đ)\n",
    "\n",
    "Thực hiện chọn và trực quan hóa phân phối điểm của các môn có trong dữ liệu học và nêu nhận xét về phân bố điểm thi. \n",
    "\n",
    "Riêng đối với môn ngoại ngữ, sinh viên chọn riêng ra theo từng `Ma_mon_ngoai_ngu` và trực quan hóa theo từng mã môn ngoại ngữ riêng (N1, N2, ... N6) và nêu nhận xét.\n",
    "\n"
   ]
  },
  {
   "cell_type": "code",
   "execution_count": 96,
   "metadata": {},
   "outputs": [],
   "source": [
    "header, data = data_reader('diemthi2019.csv')\n",
    "data_filled_const = fill_data(data, type_on_numeric = 'const')"
   ]
  },
  {
   "cell_type": "code",
   "execution_count": 154,
   "metadata": {
    "id": "cuRhnTACBO0k"
   },
   "outputs": [],
   "source": [
    "# Chọn chia điểm thi thành 10 cụm khác nhau tương ứng với mỗi điểm (0-1,1-2,2-3,...,9-10)\n",
    "def visualize_col(data, col):\n",
    "    if col != 4:\n",
    "        scores = np.zeros(10, dtype=int)\n",
    "\n",
    "        for i in range(len(data)):\n",
    "            count = math.floor(data[i][col])\n",
    "            if count >= 10:\n",
    "                count = 9\n",
    "            scores[count] += 1\n",
    "    \n",
    "    else:\n",
    "        scores = np.zeros([6, 10], dtype=int)\n",
    "        \n",
    "        for i in range(len(data)):\n",
    "            typeNN = int(data[i][3][1])\n",
    "            count = math.floor(data[i][col])\n",
    "            if count >= 10:\n",
    "                count = 9\n",
    "            scores[typeNN - 1][count] += 1\n",
    "\n",
    "    return scores"
   ]
  },
  {
   "cell_type": "code",
   "execution_count": 155,
   "metadata": {
    "id": "R7G_q7SDBO0k"
   },
   "outputs": [
    {
     "name": "stdout",
     "output_type": "stream",
     "text": [
      "[ 1526  2939 18661 38655 52382 61753 66720 42546 10765  1033]\n",
      "[ 4892  2282 15993 32447 45464 60767 67048 49682 17015  1390]\n",
      "[[15590  3800 33811 66612 63755 44485 28977 19822 13845  5882]\n",
      " [    0     0     0     2     1     1     1     4     1     0]\n",
      " [    0     0     7    11    24    19    19    16    20    31]\n",
      " [    0     0     4     9     8     5     9     5    11     4]\n",
      " [    0     0     0     1     3     7     6     5    12     7]\n",
      " [    0     2    13    26    21    23    20    25    13     5]]\n",
      "[ 5853  1589 15719 58044 99726 73995 27466  9210  4176  1202]\n",
      "[  128   622  4307  7909 15646 36814 72663 96281 53820  8790]\n",
      "[12039   575  3247 14622 44288 99004 87969 31333  3830    73]\n"
     ]
    }
   ],
   "source": [
    "col_Hoa = 1\n",
    "col_Ly = 2\n",
    "col_Ngoai_ngu = 4\n",
    "col_Sinh = 5\n",
    "col_Toan = 6\n",
    "col_Van = 7\n",
    "\n",
    "diemHoa = visualize_col(data_filled_const, col_Hoa)\n",
    "diemLy = visualize_col(data_filled_const, col_Ly)\n",
    "diemNN = visualize_col(data_filled_const, col_Ngoai_ngu)\n",
    "diemSinh = visualize_col(data_filled_const, col_Sinh)\n",
    "diemToan = visualize_col(data_filled_const, col_Toan)\n",
    "diemVan = visualize_col(data_filled_const, col_Van)"
   ]
  },
  {
   "cell_type": "code",
   "execution_count": 180,
   "metadata": {
    "id": "OcksMjwxBO0k"
   },
   "outputs": [
    {
     "name": "stdout",
     "output_type": "stream",
     "text": [
      "Biểu đồ 1: Điểm Hóa và Lý có xu hướng tương đương nhau, phổ điểm tập trung chủ yếu trong khoảng từ 3 đến 7 điểm, trong đó điểm 6 là nhiều nhất\n"
     ]
    },
    {
     "data": {
      "image/png": "[encoded data removed]",
      "text/plain": [
       "<Figure size 432x288 with 1 Axes>"
      ]
     },
     "metadata": {
      "needs_background": "light"
     },
     "output_type": "display_data"
    },
    {
     "name": "stdout",
     "output_type": "stream",
     "text": [
      "Biểu đồ 2: Phổ điểm Toán tập trung chủ yếu trong khoảng từ 5 đến 8 điểm, trong đó điểm 7 là nhiều nhất\n"
     ]
    },
    {
     "data": {
      "image/png": "[encoded data removed]",
      "text/plain": [
       "<Figure size 432x288 with 1 Axes>"
      ]
     },
     "metadata": {
      "needs_background": "light"
     },
     "output_type": "display_data"
    },
    {
     "name": "stdout",
     "output_type": "stream",
     "text": [
      "Biểu đồ 3: Phổ điểm Sinh tập trung chủ yếu trong khoảng từ 3 đến 6 điểm, trong đó điểm 4 là nhiều nhất\n"
     ]
    },
    {
     "data": {
      "image/png": "[encoded data removed]",
      "text/plain": [
       "<Figure size 432x288 with 1 Axes>"
      ]
     },
     "metadata": {
      "needs_background": "light"
     },
     "output_type": "display_data"
    },
    {
     "name": "stdout",
     "output_type": "stream",
     "text": [
      "Biểu đồ 4: Phổ điểm Văn tập trung chủ yếu trong khoảng từ 4 đến 7 điểm, trong đó điểm 5 là nhiều nhất\n"
     ]
    },
    {
     "data": {
      "image/png": "[encoded data removed]",
      "text/plain": [
       "<Figure size 432x288 with 1 Axes>"
      ]
     },
     "metadata": {
      "needs_background": "light"
     },
     "output_type": "display_data"
    }
   ],
   "source": [
    "x = np.array([0, 1, 2, 3, 4, 5, 6, 7, 8, 9])\n",
    "\n",
    "print(\"Biểu đồ 1: Điểm Hóa và Lý có xu hướng tương đương nhau, phổ điểm tập trung chủ yếu trong khoảng từ 3 đến 7 điểm, trong đó điểm 6 là nhiều nhất\")\n",
    "plt.plot(x, diemHoa, label = 'Hóa')\n",
    "plt.plot(x, diemLy, label = 'Lý')\n",
    "plt.xlabel('Scores')\n",
    "plt.ylabel('Number of students')\n",
    "plt.legend()\n",
    "plt.show()\n",
    "\n",
    "print(\"Biểu đồ 2: Phổ điểm Toán tập trung chủ yếu trong khoảng từ 5 đến 8 điểm, trong đó điểm 7 là nhiều nhất\")\n",
    "plt.plot(x, diemToan, label = 'Toán', color='r')\n",
    "plt.xlabel('Scores')\n",
    "plt.ylabel('Number of students')\n",
    "plt.legend()\n",
    "plt.show()\n",
    "\n",
    "print(\"Biểu đồ 3: Phổ điểm Sinh tập trung chủ yếu trong khoảng từ 3 đến 6 điểm, trong đó điểm 4 là nhiều nhất\")\n",
    "plt.plot(x, diemSinh, label = 'Sinh', color='green')\n",
    "plt.xlabel('Scores')\n",
    "plt.ylabel('Number of students')\n",
    "plt.legend()\n",
    "plt.show()\n",
    "\n",
    "print(\"Biểu đồ 4: Phổ điểm Văn tập trung chủ yếu trong khoảng từ 4 đến 7 điểm, trong đó điểm 5 là nhiều nhất\")\n",
    "plt.plot(x, diemVan, label = 'Văn', color='yellow')\n",
    "plt.xlabel('Scores')\n",
    "plt.ylabel('Number of students')\n",
    "plt.legend()\n",
    "plt.show()\n",
    "\n",
    "print(\"Biểu đồ 5: Phổ điểm Ngoại ngữ)\n",
    "plt.plot(x, diemVan, label = 'Văn', color='yellow')\n",
    "plt.xlabel('Scores')\n",
    "plt.ylabel('Number of students')\n",
    "plt.legend()\n",
    "plt.show()"
   ]
  },
  {
   "cell_type": "code",
   "execution_count": null,
   "metadata": {
    "id": "aeLfi5rYBO0k"
   },
   "outputs": [],
   "source": []
  },
  {
   "cell_type": "markdown",
   "metadata": {
    "id": "C_yzA8eeyaQ_"
   },
   "source": [
    "# Tài liệu tham khảo cho sinh viên\n",
    "1. Slide lý thuyết\n",
    "2. Textbook: J. Han and M. Kamber: Data Mining, Concepts and Techniques, Second Edition - Chapter 2: Getting to Know Your Data & Chapter 3: Data Preprocessing\n",
    "\n",
    "Mọi thắc mắc các bạn gửi mail cho người hướng dẫn thực hành phụ trách: **Kiều Vũ Minh Đức** (kvmduc3@gmail.com)."
   ]
  },
  {
   "cell_type": "markdown",
   "metadata": {
    "id": "bLlZsSu_DUQ6"
   },
   "source": [
    "# Nguồn tham khảo\n",
    "1. Slide lý thuyết\n",
    "2. Textbook: J. Han and M. Kamber: Data Mining, Concepts and Techniques, Second Edition - Chapter 2: Getting to Know Your Data & Chapter 3: Data Preprocessing\n",
    "3. Geeksforgeeks: Ways to remove duplicates from list\n",
    "4. Stackoverflow: Printing a column in an matrix without numpy\n",
    "5. Thegioididong: Độ lệch chuẩn là gì và công thức tính? Ý nghĩa trong SPSS\n",
    "6. Textbook: Nguyễn Đăng Minh: Tóm tắt lý thuyết và bài tâp Xác suất và thống kê\n",
    "7. Geeksforgeeks: Python | Pandas dataframe.corr()\n",
    "8. Geeksforgeeks: Seaborn Heatmap – A comprehensive guide\n",
    "9. W3Schools: Matplotlib Line"
   ]
  },
  {
   "cell_type": "code",
   "execution_count": null,
   "metadata": {},
   "outputs": [],
   "source": []
  }
 ],
 "metadata": {
  "colab": {
   "collapsed_sections": [
    "FcDON7J7BO0j"
   ],
   "provenance": []
  },
  "kernelspec": {
   "display_name": "Python 3 (ipykernel)",
   "language": "python",
   "name": "python3"
  },
  "language_info": {
   "codemirror_mode": {
    "name": "ipython",
    "version": 3
   },
   "file_extension": ".py",
   "mimetype": "text/x-python",
   "name": "python",
   "nbconvert_exporter": "python",
   "pygments_lexer": "ipython3",
   "version": "3.9.7"
  },
  "vscode": {
   "interpreter": {
    "hash": "805ec58a42bb74078ef34e0b09d8887d595db0068f7caef1a8723b55c6fd7fba"
   }
  }
 },
 "nbformat": 4,
 "nbformat_minor": 1
}
